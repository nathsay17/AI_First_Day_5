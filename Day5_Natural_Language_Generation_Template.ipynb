{
  "cells": [
    {
      "cell_type": "code",
      "source": [
        "!pip install openai==0.28.1\n",
        "!pip install fpdf==1.7.2"
      ],
      "metadata": {
        "id": "lataKYH3l-T1",
        "collapsed": true,
        "colab": {
          "base_uri": "https://localhost:8080/"
        },
        "outputId": "1d255346-765e-4b11-80df-4f32708e48d6"
      },
      "id": "lataKYH3l-T1",
      "execution_count": 1,
      "outputs": [
        {
          "output_type": "stream",
          "name": "stdout",
          "text": [
            "Collecting openai==0.28.1\n",
            "  Downloading openai-0.28.1-py3-none-any.whl.metadata (11 kB)\n",
            "Requirement already satisfied: requests>=2.20 in /usr/local/lib/python3.10/dist-packages (from openai==0.28.1) (2.32.3)\n",
            "Requirement already satisfied: tqdm in /usr/local/lib/python3.10/dist-packages (from openai==0.28.1) (4.66.6)\n",
            "Requirement already satisfied: aiohttp in /usr/local/lib/python3.10/dist-packages (from openai==0.28.1) (3.10.10)\n",
            "Requirement already satisfied: charset-normalizer<4,>=2 in /usr/local/lib/python3.10/dist-packages (from requests>=2.20->openai==0.28.1) (3.4.0)\n",
            "Requirement already satisfied: idna<4,>=2.5 in /usr/local/lib/python3.10/dist-packages (from requests>=2.20->openai==0.28.1) (3.10)\n",
            "Requirement already satisfied: urllib3<3,>=1.21.1 in /usr/local/lib/python3.10/dist-packages (from requests>=2.20->openai==0.28.1) (2.2.3)\n",
            "Requirement already satisfied: certifi>=2017.4.17 in /usr/local/lib/python3.10/dist-packages (from requests>=2.20->openai==0.28.1) (2024.8.30)\n",
            "Requirement already satisfied: aiohappyeyeballs>=2.3.0 in /usr/local/lib/python3.10/dist-packages (from aiohttp->openai==0.28.1) (2.4.3)\n",
            "Requirement already satisfied: aiosignal>=1.1.2 in /usr/local/lib/python3.10/dist-packages (from aiohttp->openai==0.28.1) (1.3.1)\n",
            "Requirement already satisfied: attrs>=17.3.0 in /usr/local/lib/python3.10/dist-packages (from aiohttp->openai==0.28.1) (24.2.0)\n",
            "Requirement already satisfied: frozenlist>=1.1.1 in /usr/local/lib/python3.10/dist-packages (from aiohttp->openai==0.28.1) (1.5.0)\n",
            "Requirement already satisfied: multidict<7.0,>=4.5 in /usr/local/lib/python3.10/dist-packages (from aiohttp->openai==0.28.1) (6.1.0)\n",
            "Requirement already satisfied: yarl<2.0,>=1.12.0 in /usr/local/lib/python3.10/dist-packages (from aiohttp->openai==0.28.1) (1.17.1)\n",
            "Requirement already satisfied: async-timeout<5.0,>=4.0 in /usr/local/lib/python3.10/dist-packages (from aiohttp->openai==0.28.1) (4.0.3)\n",
            "Requirement already satisfied: typing-extensions>=4.1.0 in /usr/local/lib/python3.10/dist-packages (from multidict<7.0,>=4.5->aiohttp->openai==0.28.1) (4.12.2)\n",
            "Requirement already satisfied: propcache>=0.2.0 in /usr/local/lib/python3.10/dist-packages (from yarl<2.0,>=1.12.0->aiohttp->openai==0.28.1) (0.2.0)\n",
            "Downloading openai-0.28.1-py3-none-any.whl (76 kB)\n",
            "\u001b[2K   \u001b[90m━━━━━━━━━━━━━━━━━━━━━━━━━━━━━━━━━━━━━━━━\u001b[0m \u001b[32m77.0/77.0 kB\u001b[0m \u001b[31m2.3 MB/s\u001b[0m eta \u001b[36m0:00:00\u001b[0m\n",
            "\u001b[?25hInstalling collected packages: openai\n",
            "  Attempting uninstall: openai\n",
            "    Found existing installation: openai 1.54.4\n",
            "    Uninstalling openai-1.54.4:\n",
            "      Successfully uninstalled openai-1.54.4\n",
            "Successfully installed openai-0.28.1\n",
            "Collecting fpdf==1.7.2\n",
            "  Downloading fpdf-1.7.2.tar.gz (39 kB)\n",
            "  Preparing metadata (setup.py) ... \u001b[?25l\u001b[?25hdone\n",
            "Building wheels for collected packages: fpdf\n",
            "  Building wheel for fpdf (setup.py) ... \u001b[?25l\u001b[?25hdone\n",
            "  Created wheel for fpdf: filename=fpdf-1.7.2-py2.py3-none-any.whl size=40704 sha256=bdb604a5e7a6e5f613df4f64f4dca116c89f960b9dee6b58f1c7047809797ba1\n",
            "  Stored in directory: /root/.cache/pip/wheels/f9/95/ba/f418094659025eb9611f17cbcaf2334236bf39a0c3453ea455\n",
            "Successfully built fpdf\n",
            "Installing collected packages: fpdf\n",
            "Successfully installed fpdf-1.7.2\n"
          ]
        }
      ]
    },
    {
      "cell_type": "code",
      "execution_count": 2,
      "id": "48ef5895-994b-4287-be64-6bfc2d5cea03",
      "metadata": {
        "id": "48ef5895-994b-4287-be64-6bfc2d5cea03"
      },
      "outputs": [],
      "source": [
        "import pandas as pd\n",
        "import openai\n",
        "import time\n",
        "from fpdf import FPDF\n",
        "\n",
        "openai.api_key = ''"
      ]
    },
    {
      "cell_type": "markdown",
      "source": [
        "## Load the dataset"
      ],
      "metadata": {
        "id": "71nyWCPo9mui"
      },
      "id": "71nyWCPo9mui"
    },
    {
      "cell_type": "code",
      "source": [
        "df = pd.read_csv('https://raw.githubusercontent.com/ALGOREX-PH/Day-4-AI-First-Dataset-Live/refs/heads/main/Parcel_Information_Dataset.csv')"
      ],
      "metadata": {
        "id": "iNEtAbnJma2J"
      },
      "id": "iNEtAbnJma2J",
      "execution_count": 11,
      "outputs": []
    },
    {
      "cell_type": "code",
      "source": [
        "df.sample(5)"
      ],
      "metadata": {
        "id": "Ye6HoobRmc2k",
        "collapsed": true,
        "colab": {
          "base_uri": "https://localhost:8080/",
          "height": 655
        },
        "outputId": "4451f973-ce4c-4d04-ecb8-4146bae065a4"
      },
      "id": "Ye6HoobRmc2k",
      "execution_count": 12,
      "outputs": [
        {
          "output_type": "execute_result",
          "data": {
            "text/plain": [
              "    Parcel ID    Sender Name                        Sender Address  \\\n",
              "0   PCL398114  Michael Brown  456 Maple Ave, Los Angeles, CA 90001   \n",
              "8   PCL137312       John Doe        123 Elm St, New York, NY 10001   \n",
              "18  PCL946609    Alice Green     202 Birch Blvd, Phoenix, AZ 85001   \n",
              "3   PCL768961    Linda Black  456 Maple Ave, Los Angeles, CA 90001   \n",
              "13  PCL264474  Michael Brown         789 Oak Rd, Chicago, IL 60601   \n",
              "\n",
              "   Sender Contact Receiver Name                   Receiver Address  \\\n",
              "0     +1-555-4253    Sara Davis  202 Birch Blvd, Phoenix, AZ 85001   \n",
              "8     +1-555-5674      Mike Lee  202 Birch Blvd, Phoenix, AZ 85001   \n",
              "18    +1-555-7523    Sara Davis  202 Birch Blvd, Phoenix, AZ 85001   \n",
              "3     +1-555-2027    Sara Davis  202 Birch Blvd, Phoenix, AZ 85001   \n",
              "13    +1-555-7874    Sara Davis     101 Pine St, Houston, TX 77001   \n",
              "\n",
              "   Receiver Contact  Parcel Weight (kg) Parcel Dimensions (cm) Shipment Date  \\\n",
              "0       +1-555-8367                7.75               97x16x70    2024-11-17   \n",
              "8       +1-555-6722               17.70               97x53x66    2024-11-22   \n",
              "18      +1-555-5354               13.34               41x57x17    2024-11-05   \n",
              "3       +1-555-3973               15.05               23x99x83    2024-11-18   \n",
              "13      +1-555-3769                3.56               92x75x48    2024-11-16   \n",
              "\n",
              "    ... Shipping Cost ($) Shipping Method  Tracking Number  \\\n",
              "0   ...              8.66        Standard     TRK389255020   \n",
              "8   ...             44.70         Express     TRK648126009   \n",
              "18  ...             26.66         Express     TRK946747649   \n",
              "3   ...             45.52         Express     TRK588614196   \n",
              "13  ...             18.34         Express     TRK638738696   \n",
              "\n",
              "   Insurance Value ($) Fragile  Temperature Sensitive Special Instructions  \\\n",
              "0               257.34     Yes                     No                  NaN   \n",
              "8               225.68      No                    Yes  Leave at front door   \n",
              "18              191.62      No                     No  Leave at front door   \n",
              "3               218.93      No                     No     Handle with care   \n",
              "13              265.10     Yes                     No            Ring bell   \n",
              "\n",
              "   Delivery Attempt Count                      Last Location  Courier ID  \n",
              "0                       1   Distribution Center, Phoenix, AZ      CR9571  \n",
              "8                       3   Distribution Center, Phoenix, AZ      CR4214  \n",
              "18                      3   Distribution Center, Phoenix, AZ      CR6949  \n",
              "3                       3   Distribution Center, Houston, TX      CR4388  \n",
              "13                      2  Distribution Center, New York, NY      CR9975  \n",
              "\n",
              "[5 rows x 22 columns]"
            ],
            "text/html": [
              "\n",
              "  <div id=\"df-c657c226-63e2-4157-b847-0c382f4a1276\" class=\"colab-df-container\">\n",
              "    <div>\n",
              "<style scoped>\n",
              "    .dataframe tbody tr th:only-of-type {\n",
              "        vertical-align: middle;\n",
              "    }\n",
              "\n",
              "    .dataframe tbody tr th {\n",
              "        vertical-align: top;\n",
              "    }\n",
              "\n",
              "    .dataframe thead th {\n",
              "        text-align: right;\n",
              "    }\n",
              "</style>\n",
              "<table border=\"1\" class=\"dataframe\">\n",
              "  <thead>\n",
              "    <tr style=\"text-align: right;\">\n",
              "      <th></th>\n",
              "      <th>Parcel ID</th>\n",
              "      <th>Sender Name</th>\n",
              "      <th>Sender Address</th>\n",
              "      <th>Sender Contact</th>\n",
              "      <th>Receiver Name</th>\n",
              "      <th>Receiver Address</th>\n",
              "      <th>Receiver Contact</th>\n",
              "      <th>Parcel Weight (kg)</th>\n",
              "      <th>Parcel Dimensions (cm)</th>\n",
              "      <th>Shipment Date</th>\n",
              "      <th>...</th>\n",
              "      <th>Shipping Cost ($)</th>\n",
              "      <th>Shipping Method</th>\n",
              "      <th>Tracking Number</th>\n",
              "      <th>Insurance Value ($)</th>\n",
              "      <th>Fragile</th>\n",
              "      <th>Temperature Sensitive</th>\n",
              "      <th>Special Instructions</th>\n",
              "      <th>Delivery Attempt Count</th>\n",
              "      <th>Last Location</th>\n",
              "      <th>Courier ID</th>\n",
              "    </tr>\n",
              "  </thead>\n",
              "  <tbody>\n",
              "    <tr>\n",
              "      <th>0</th>\n",
              "      <td>PCL398114</td>\n",
              "      <td>Michael Brown</td>\n",
              "      <td>456 Maple Ave, Los Angeles, CA 90001</td>\n",
              "      <td>+1-555-4253</td>\n",
              "      <td>Sara Davis</td>\n",
              "      <td>202 Birch Blvd, Phoenix, AZ 85001</td>\n",
              "      <td>+1-555-8367</td>\n",
              "      <td>7.75</td>\n",
              "      <td>97x16x70</td>\n",
              "      <td>2024-11-17</td>\n",
              "      <td>...</td>\n",
              "      <td>8.66</td>\n",
              "      <td>Standard</td>\n",
              "      <td>TRK389255020</td>\n",
              "      <td>257.34</td>\n",
              "      <td>Yes</td>\n",
              "      <td>No</td>\n",
              "      <td>NaN</td>\n",
              "      <td>1</td>\n",
              "      <td>Distribution Center, Phoenix, AZ</td>\n",
              "      <td>CR9571</td>\n",
              "    </tr>\n",
              "    <tr>\n",
              "      <th>8</th>\n",
              "      <td>PCL137312</td>\n",
              "      <td>John Doe</td>\n",
              "      <td>123 Elm St, New York, NY 10001</td>\n",
              "      <td>+1-555-5674</td>\n",
              "      <td>Mike Lee</td>\n",
              "      <td>202 Birch Blvd, Phoenix, AZ 85001</td>\n",
              "      <td>+1-555-6722</td>\n",
              "      <td>17.70</td>\n",
              "      <td>97x53x66</td>\n",
              "      <td>2024-11-22</td>\n",
              "      <td>...</td>\n",
              "      <td>44.70</td>\n",
              "      <td>Express</td>\n",
              "      <td>TRK648126009</td>\n",
              "      <td>225.68</td>\n",
              "      <td>No</td>\n",
              "      <td>Yes</td>\n",
              "      <td>Leave at front door</td>\n",
              "      <td>3</td>\n",
              "      <td>Distribution Center, Phoenix, AZ</td>\n",
              "      <td>CR4214</td>\n",
              "    </tr>\n",
              "    <tr>\n",
              "      <th>18</th>\n",
              "      <td>PCL946609</td>\n",
              "      <td>Alice Green</td>\n",
              "      <td>202 Birch Blvd, Phoenix, AZ 85001</td>\n",
              "      <td>+1-555-7523</td>\n",
              "      <td>Sara Davis</td>\n",
              "      <td>202 Birch Blvd, Phoenix, AZ 85001</td>\n",
              "      <td>+1-555-5354</td>\n",
              "      <td>13.34</td>\n",
              "      <td>41x57x17</td>\n",
              "      <td>2024-11-05</td>\n",
              "      <td>...</td>\n",
              "      <td>26.66</td>\n",
              "      <td>Express</td>\n",
              "      <td>TRK946747649</td>\n",
              "      <td>191.62</td>\n",
              "      <td>No</td>\n",
              "      <td>No</td>\n",
              "      <td>Leave at front door</td>\n",
              "      <td>3</td>\n",
              "      <td>Distribution Center, Phoenix, AZ</td>\n",
              "      <td>CR6949</td>\n",
              "    </tr>\n",
              "    <tr>\n",
              "      <th>3</th>\n",
              "      <td>PCL768961</td>\n",
              "      <td>Linda Black</td>\n",
              "      <td>456 Maple Ave, Los Angeles, CA 90001</td>\n",
              "      <td>+1-555-2027</td>\n",
              "      <td>Sara Davis</td>\n",
              "      <td>202 Birch Blvd, Phoenix, AZ 85001</td>\n",
              "      <td>+1-555-3973</td>\n",
              "      <td>15.05</td>\n",
              "      <td>23x99x83</td>\n",
              "      <td>2024-11-18</td>\n",
              "      <td>...</td>\n",
              "      <td>45.52</td>\n",
              "      <td>Express</td>\n",
              "      <td>TRK588614196</td>\n",
              "      <td>218.93</td>\n",
              "      <td>No</td>\n",
              "      <td>No</td>\n",
              "      <td>Handle with care</td>\n",
              "      <td>3</td>\n",
              "      <td>Distribution Center, Houston, TX</td>\n",
              "      <td>CR4388</td>\n",
              "    </tr>\n",
              "    <tr>\n",
              "      <th>13</th>\n",
              "      <td>PCL264474</td>\n",
              "      <td>Michael Brown</td>\n",
              "      <td>789 Oak Rd, Chicago, IL 60601</td>\n",
              "      <td>+1-555-7874</td>\n",
              "      <td>Sara Davis</td>\n",
              "      <td>101 Pine St, Houston, TX 77001</td>\n",
              "      <td>+1-555-3769</td>\n",
              "      <td>3.56</td>\n",
              "      <td>92x75x48</td>\n",
              "      <td>2024-11-16</td>\n",
              "      <td>...</td>\n",
              "      <td>18.34</td>\n",
              "      <td>Express</td>\n",
              "      <td>TRK638738696</td>\n",
              "      <td>265.10</td>\n",
              "      <td>Yes</td>\n",
              "      <td>No</td>\n",
              "      <td>Ring bell</td>\n",
              "      <td>2</td>\n",
              "      <td>Distribution Center, New York, NY</td>\n",
              "      <td>CR9975</td>\n",
              "    </tr>\n",
              "  </tbody>\n",
              "</table>\n",
              "<p>5 rows × 22 columns</p>\n",
              "</div>\n",
              "    <div class=\"colab-df-buttons\">\n",
              "\n",
              "  <div class=\"colab-df-container\">\n",
              "    <button class=\"colab-df-convert\" onclick=\"convertToInteractive('df-c657c226-63e2-4157-b847-0c382f4a1276')\"\n",
              "            title=\"Convert this dataframe to an interactive table.\"\n",
              "            style=\"display:none;\">\n",
              "\n",
              "  <svg xmlns=\"http://www.w3.org/2000/svg\" height=\"24px\" viewBox=\"0 -960 960 960\">\n",
              "    <path d=\"M120-120v-720h720v720H120Zm60-500h600v-160H180v160Zm220 220h160v-160H400v160Zm0 220h160v-160H400v160ZM180-400h160v-160H180v160Zm440 0h160v-160H620v160ZM180-180h160v-160H180v160Zm440 0h160v-160H620v160Z\"/>\n",
              "  </svg>\n",
              "    </button>\n",
              "\n",
              "  <style>\n",
              "    .colab-df-container {\n",
              "      display:flex;\n",
              "      gap: 12px;\n",
              "    }\n",
              "\n",
              "    .colab-df-convert {\n",
              "      background-color: #E8F0FE;\n",
              "      border: none;\n",
              "      border-radius: 50%;\n",
              "      cursor: pointer;\n",
              "      display: none;\n",
              "      fill: #1967D2;\n",
              "      height: 32px;\n",
              "      padding: 0 0 0 0;\n",
              "      width: 32px;\n",
              "    }\n",
              "\n",
              "    .colab-df-convert:hover {\n",
              "      background-color: #E2EBFA;\n",
              "      box-shadow: 0px 1px 2px rgba(60, 64, 67, 0.3), 0px 1px 3px 1px rgba(60, 64, 67, 0.15);\n",
              "      fill: #174EA6;\n",
              "    }\n",
              "\n",
              "    .colab-df-buttons div {\n",
              "      margin-bottom: 4px;\n",
              "    }\n",
              "\n",
              "    [theme=dark] .colab-df-convert {\n",
              "      background-color: #3B4455;\n",
              "      fill: #D2E3FC;\n",
              "    }\n",
              "\n",
              "    [theme=dark] .colab-df-convert:hover {\n",
              "      background-color: #434B5C;\n",
              "      box-shadow: 0px 1px 3px 1px rgba(0, 0, 0, 0.15);\n",
              "      filter: drop-shadow(0px 1px 2px rgba(0, 0, 0, 0.3));\n",
              "      fill: #FFFFFF;\n",
              "    }\n",
              "  </style>\n",
              "\n",
              "    <script>\n",
              "      const buttonEl =\n",
              "        document.querySelector('#df-c657c226-63e2-4157-b847-0c382f4a1276 button.colab-df-convert');\n",
              "      buttonEl.style.display =\n",
              "        google.colab.kernel.accessAllowed ? 'block' : 'none';\n",
              "\n",
              "      async function convertToInteractive(key) {\n",
              "        const element = document.querySelector('#df-c657c226-63e2-4157-b847-0c382f4a1276');\n",
              "        const dataTable =\n",
              "          await google.colab.kernel.invokeFunction('convertToInteractive',\n",
              "                                                    [key], {});\n",
              "        if (!dataTable) return;\n",
              "\n",
              "        const docLinkHtml = 'Like what you see? Visit the ' +\n",
              "          '<a target=\"_blank\" href=https://colab.research.google.com/notebooks/data_table.ipynb>data table notebook</a>'\n",
              "          + ' to learn more about interactive tables.';\n",
              "        element.innerHTML = '';\n",
              "        dataTable['output_type'] = 'display_data';\n",
              "        await google.colab.output.renderOutput(dataTable, element);\n",
              "        const docLink = document.createElement('div');\n",
              "        docLink.innerHTML = docLinkHtml;\n",
              "        element.appendChild(docLink);\n",
              "      }\n",
              "    </script>\n",
              "  </div>\n",
              "\n",
              "\n",
              "<div id=\"df-0a794d28-a982-4bc4-b0e2-4b40de9b3022\">\n",
              "  <button class=\"colab-df-quickchart\" onclick=\"quickchart('df-0a794d28-a982-4bc4-b0e2-4b40de9b3022')\"\n",
              "            title=\"Suggest charts\"\n",
              "            style=\"display:none;\">\n",
              "\n",
              "<svg xmlns=\"http://www.w3.org/2000/svg\" height=\"24px\"viewBox=\"0 0 24 24\"\n",
              "     width=\"24px\">\n",
              "    <g>\n",
              "        <path d=\"M19 3H5c-1.1 0-2 .9-2 2v14c0 1.1.9 2 2 2h14c1.1 0 2-.9 2-2V5c0-1.1-.9-2-2-2zM9 17H7v-7h2v7zm4 0h-2V7h2v10zm4 0h-2v-4h2v4z\"/>\n",
              "    </g>\n",
              "</svg>\n",
              "  </button>\n",
              "\n",
              "<style>\n",
              "  .colab-df-quickchart {\n",
              "      --bg-color: #E8F0FE;\n",
              "      --fill-color: #1967D2;\n",
              "      --hover-bg-color: #E2EBFA;\n",
              "      --hover-fill-color: #174EA6;\n",
              "      --disabled-fill-color: #AAA;\n",
              "      --disabled-bg-color: #DDD;\n",
              "  }\n",
              "\n",
              "  [theme=dark] .colab-df-quickchart {\n",
              "      --bg-color: #3B4455;\n",
              "      --fill-color: #D2E3FC;\n",
              "      --hover-bg-color: #434B5C;\n",
              "      --hover-fill-color: #FFFFFF;\n",
              "      --disabled-bg-color: #3B4455;\n",
              "      --disabled-fill-color: #666;\n",
              "  }\n",
              "\n",
              "  .colab-df-quickchart {\n",
              "    background-color: var(--bg-color);\n",
              "    border: none;\n",
              "    border-radius: 50%;\n",
              "    cursor: pointer;\n",
              "    display: none;\n",
              "    fill: var(--fill-color);\n",
              "    height: 32px;\n",
              "    padding: 0;\n",
              "    width: 32px;\n",
              "  }\n",
              "\n",
              "  .colab-df-quickchart:hover {\n",
              "    background-color: var(--hover-bg-color);\n",
              "    box-shadow: 0 1px 2px rgba(60, 64, 67, 0.3), 0 1px 3px 1px rgba(60, 64, 67, 0.15);\n",
              "    fill: var(--button-hover-fill-color);\n",
              "  }\n",
              "\n",
              "  .colab-df-quickchart-complete:disabled,\n",
              "  .colab-df-quickchart-complete:disabled:hover {\n",
              "    background-color: var(--disabled-bg-color);\n",
              "    fill: var(--disabled-fill-color);\n",
              "    box-shadow: none;\n",
              "  }\n",
              "\n",
              "  .colab-df-spinner {\n",
              "    border: 2px solid var(--fill-color);\n",
              "    border-color: transparent;\n",
              "    border-bottom-color: var(--fill-color);\n",
              "    animation:\n",
              "      spin 1s steps(1) infinite;\n",
              "  }\n",
              "\n",
              "  @keyframes spin {\n",
              "    0% {\n",
              "      border-color: transparent;\n",
              "      border-bottom-color: var(--fill-color);\n",
              "      border-left-color: var(--fill-color);\n",
              "    }\n",
              "    20% {\n",
              "      border-color: transparent;\n",
              "      border-left-color: var(--fill-color);\n",
              "      border-top-color: var(--fill-color);\n",
              "    }\n",
              "    30% {\n",
              "      border-color: transparent;\n",
              "      border-left-color: var(--fill-color);\n",
              "      border-top-color: var(--fill-color);\n",
              "      border-right-color: var(--fill-color);\n",
              "    }\n",
              "    40% {\n",
              "      border-color: transparent;\n",
              "      border-right-color: var(--fill-color);\n",
              "      border-top-color: var(--fill-color);\n",
              "    }\n",
              "    60% {\n",
              "      border-color: transparent;\n",
              "      border-right-color: var(--fill-color);\n",
              "    }\n",
              "    80% {\n",
              "      border-color: transparent;\n",
              "      border-right-color: var(--fill-color);\n",
              "      border-bottom-color: var(--fill-color);\n",
              "    }\n",
              "    90% {\n",
              "      border-color: transparent;\n",
              "      border-bottom-color: var(--fill-color);\n",
              "    }\n",
              "  }\n",
              "</style>\n",
              "\n",
              "  <script>\n",
              "    async function quickchart(key) {\n",
              "      const quickchartButtonEl =\n",
              "        document.querySelector('#' + key + ' button');\n",
              "      quickchartButtonEl.disabled = true;  // To prevent multiple clicks.\n",
              "      quickchartButtonEl.classList.add('colab-df-spinner');\n",
              "      try {\n",
              "        const charts = await google.colab.kernel.invokeFunction(\n",
              "            'suggestCharts', [key], {});\n",
              "      } catch (error) {\n",
              "        console.error('Error during call to suggestCharts:', error);\n",
              "      }\n",
              "      quickchartButtonEl.classList.remove('colab-df-spinner');\n",
              "      quickchartButtonEl.classList.add('colab-df-quickchart-complete');\n",
              "    }\n",
              "    (() => {\n",
              "      let quickchartButtonEl =\n",
              "        document.querySelector('#df-0a794d28-a982-4bc4-b0e2-4b40de9b3022 button');\n",
              "      quickchartButtonEl.style.display =\n",
              "        google.colab.kernel.accessAllowed ? 'block' : 'none';\n",
              "    })();\n",
              "  </script>\n",
              "</div>\n",
              "\n",
              "    </div>\n",
              "  </div>\n"
            ],
            "application/vnd.google.colaboratory.intrinsic+json": {
              "type": "dataframe"
            }
          },
          "metadata": {},
          "execution_count": 12
        }
      ]
    },
    {
      "cell_type": "markdown",
      "source": [
        "## Understanding the Dataset"
      ],
      "metadata": {
        "id": "QusTNnFu92Jx"
      },
      "id": "QusTNnFu92Jx"
    },
    {
      "cell_type": "code",
      "source": [
        "# Get Column Names and Data Types\n",
        "column_info = df.dtypes\n",
        "print(column_info, \"\\n\")\n"
      ],
      "metadata": {
        "id": "xTpEc-cd8-_l",
        "collapsed": true,
        "colab": {
          "base_uri": "https://localhost:8080/"
        },
        "outputId": "7eeb3556-3d55-4b95-ace4-9813dba5f620"
      },
      "id": "xTpEc-cd8-_l",
      "execution_count": 13,
      "outputs": [
        {
          "output_type": "stream",
          "name": "stdout",
          "text": [
            "Parcel ID                   object\n",
            "Sender Name                 object\n",
            "Sender Address              object\n",
            "Sender Contact              object\n",
            "Receiver Name               object\n",
            "Receiver Address            object\n",
            "Receiver Contact            object\n",
            "Parcel Weight (kg)         float64\n",
            "Parcel Dimensions (cm)      object\n",
            "Shipment Date               object\n",
            "Estimated Delivery Date     object\n",
            "Delivery Status             object\n",
            "Shipping Cost ($)          float64\n",
            "Shipping Method             object\n",
            "Tracking Number             object\n",
            "Insurance Value ($)        float64\n",
            "Fragile                     object\n",
            "Temperature Sensitive       object\n",
            "Special Instructions        object\n",
            "Delivery Attempt Count       int64\n",
            "Last Location               object\n",
            "Courier ID                  object\n",
            "dtype: object \n",
            "\n"
          ]
        }
      ]
    },
    {
      "cell_type": "code",
      "source": [
        "# Identify Categorical and Numerical Features\n",
        "categorical_features = df.select_dtypes(include=['object']).columns\n",
        "numerical_features = df.select_dtypes(include=['int64', 'float64']).columns\n",
        "\n",
        "print(\"Categorical Features:\", categorical_features)\n",
        "print(\"Numerical Features:\", numerical_features)\n",
        "\n"
      ],
      "metadata": {
        "id": "0TYP9kiM-E0W",
        "collapsed": true,
        "colab": {
          "base_uri": "https://localhost:8080/"
        },
        "outputId": "0aafa13d-880c-4364-bc6e-30d1cbef156c"
      },
      "id": "0TYP9kiM-E0W",
      "execution_count": 14,
      "outputs": [
        {
          "output_type": "stream",
          "name": "stdout",
          "text": [
            "Categorical Features: Index(['Parcel ID', 'Sender Name', 'Sender Address', 'Sender Contact',\n",
            "       'Receiver Name', 'Receiver Address', 'Receiver Contact',\n",
            "       'Parcel Dimensions (cm)', 'Shipment Date', 'Estimated Delivery Date',\n",
            "       'Delivery Status', 'Shipping Method', 'Tracking Number', 'Fragile',\n",
            "       'Temperature Sensitive', 'Special Instructions', 'Last Location',\n",
            "       'Courier ID'],\n",
            "      dtype='object')\n",
            "Numerical Features: Index(['Parcel Weight (kg)', 'Shipping Cost ($)', 'Insurance Value ($)',\n",
            "       'Delivery Attempt Count'],\n",
            "      dtype='object')\n"
          ]
        }
      ]
    },
    {
      "cell_type": "code",
      "execution_count": 17,
      "id": "422cc4d7-966b-4ea8-b991-df4a21f8ac64",
      "metadata": {
        "id": "422cc4d7-966b-4ea8-b991-df4a21f8ac64",
        "collapsed": true,
        "colab": {
          "base_uri": "https://localhost:8080/"
        },
        "outputId": "1576595d-4490-4add-9a5c-b5354f3a11b1"
      },
      "outputs": [
        {
          "output_type": "stream",
          "name": "stdout",
          "text": [
            "Unique Values for Categorical Features:\n",
            " - Parcel ID: ['PCL398114', 'PCL761243', 'PCL104639', 'PCL768961', 'PCL935942', 'PCL595560', 'PCL409380', 'PCL616284', 'PCL137312', 'PCL418086', '...']\n",
            " - Sender Name: ['Michael Brown', 'John Doe', 'Linda Black', 'Alice Green', 'Chris White']\n",
            " - Sender Address: ['456 Maple Ave, Los Angeles, CA 90001', '101 Pine St, Houston, TX 77001', '202 Birch Blvd, Phoenix, AZ 85001', '123 Elm St, New York, NY 10001', '789 Oak Rd, Chicago, IL 60601']\n",
            " - Sender Contact: ['+1-555-4253', '+1-555-2574', '+1-555-3768', '+1-555-2027', '+1-555-3594', '+1-555-1235', '+1-555-7417', '+1-555-7648', '+1-555-5674', '+1-555-8484', '...']\n",
            " - Receiver Name: ['Sara Davis', 'Bob Johnson', 'Mike Lee', 'Jane Smith', 'Nancy Wilson']\n",
            " - Receiver Address: ['202 Birch Blvd, Phoenix, AZ 85001', '123 Elm St, New York, NY 10001', '101 Pine St, Houston, TX 77001', '789 Oak Rd, Chicago, IL 60601']\n",
            " - Receiver Contact: ['+1-555-8367', '+1-555-3140', '+1-555-9256', '+1-555-3973', '+1-555-8828', '+1-555-8395', '+1-555-2937', '+1-555-9386', '+1-555-6722', '+1-555-8251', '...']\n",
            " - Parcel Dimensions (cm): ['97x16x70', '43x64x11', '45x39x53', '23x99x83', '43x83x93', '35x85x47', '44x28x12', '89x59x99', '97x53x66', '94x99x20', '...']\n",
            " - Shipment Date: ['2024-11-17', '2024-11-23', '2024-11-09', '2024-11-18', '2024-11-27', '2024-11-25', '2024-11-22', '2024-11-20', '2024-11-14', '2024-11-24', '...']\n",
            " - Estimated Delivery Date: ['2024-11-17', '2024-11-11', '2024-11-25', '2024-11-16', '2024-11-01', '2024-11-03', '2024-11-12', '2024-11-26', '2024-11-22', '2024-11-08', '...']\n",
            " - Delivery Status: ['Delivered', 'In Transit', 'Out for Delivery', 'Delayed']\n",
            " - Shipping Method: ['Standard', 'Express']\n",
            " - Tracking Number: ['TRK389255020', 'TRK278841245', 'TRK696430980', 'TRK588614196', 'TRK897242703', 'TRK106569688', 'TRK465769876', 'TRK762951228', 'TRK648126009', 'TRK578262520', '...']\n",
            " - Fragile: ['Yes', 'No']\n",
            " - Temperature Sensitive: ['No', 'Yes']\n",
            " - Special Instructions: [nan, 'Deliver to reception', 'Handle with care', 'Ring bell', 'Leave at front door']\n",
            " - Last Location: ['Distribution Center, Phoenix, AZ', 'Distribution Center, Houston, TX', 'Distribution Center, Los Angeles, CA', 'Distribution Center, New York, NY']\n",
            " - Courier ID: ['CR9571', 'CR8429', 'CR8897', 'CR4388', 'CR9727', 'CR2915', 'CR9008', 'CR6745', 'CR4214', 'CR6216', '...']\n",
            "\n"
          ]
        }
      ],
      "source": [
        "# Get Unique Values for Categorical Features with Limitation\n",
        "def get_unique_values(col, max_display=10):\n",
        "    uniques = df[col].unique().tolist()\n",
        "    if len(uniques) > max_display:\n",
        "        return uniques[:max_display] + [\"...\"]\n",
        "    return uniques\n",
        "\n",
        "unique_values = {col: get_unique_values(col) for col in categorical_features}\n",
        "\n",
        "print(\"Unique Values for Categorical Features:\")\n",
        "for col, uniques in unique_values.items():\n",
        "    print(f\" - {col}: {uniques}\")\n",
        "print()\n"
      ]
    },
    {
      "cell_type": "code",
      "source": [
        "# Get Descriptive Statistics for Numerical Features\n",
        "numerical_stats = df[numerical_features].describe()\n",
        "print(\"Descriptive Statistics for Numerical Features:\\n\", numerical_stats, \"\\n\")\n",
        "\n"
      ],
      "metadata": {
        "id": "CbfloRag9Kup",
        "collapsed": true,
        "colab": {
          "base_uri": "https://localhost:8080/"
        },
        "outputId": "8ee16a5b-3be1-4413-d99a-1d11d0e95a58"
      },
      "id": "CbfloRag9Kup",
      "execution_count": 18,
      "outputs": [
        {
          "output_type": "stream",
          "name": "stdout",
          "text": [
            "Descriptive Statistics for Numerical Features:\n",
            "        Parcel Weight (kg)  Shipping Cost ($)  Insurance Value ($)  \\\n",
            "count             20.0000          20.000000            20.000000   \n",
            "mean               9.7480          26.450500           292.237500   \n",
            "std                5.3491          13.566969           102.527009   \n",
            "min                1.6400           5.780000            63.900000   \n",
            "25%                5.2700          13.760000           223.992500   \n",
            "50%                9.5150          27.400000           277.725000   \n",
            "75%               13.2350          38.207500           374.115000   \n",
            "max               18.1200          45.520000           479.580000   \n",
            "\n",
            "       Delivery Attempt Count  \n",
            "count               20.000000  \n",
            "mean                 1.900000  \n",
            "std                  0.852242  \n",
            "min                  1.000000  \n",
            "25%                  1.000000  \n",
            "50%                  2.000000  \n",
            "75%                  3.000000  \n",
            "max                  3.000000   \n",
            "\n"
          ]
        }
      ]
    },
    {
      "cell_type": "markdown",
      "source": [
        "## Generating the Template"
      ],
      "metadata": {
        "id": "7J1vcAcp-LO_"
      },
      "id": "7J1vcAcp-LO_"
    },
    {
      "cell_type": "code",
      "execution_count": 20,
      "id": "eddf122d-9766-408c-88df-b84ef9a649cf",
      "metadata": {
        "id": "eddf122d-9766-408c-88df-b84ef9a649cf"
      },
      "outputs": [],
      "source": [
        "def generate_template(df,\n",
        "                      column_info,\n",
        "                      categorical_features,\n",
        "                      numerical_features,\n",
        "                      unique_values,\n",
        "                      numerical_stats):\n",
        "\n",
        "    # Construct a summary of the dataframe's structure\n",
        "    column_summary = \"Column Names and Data Types:\\n\"\n",
        "    for col, dtype in column_info.items():\n",
        "        column_summary += f\"{col}: {dtype}\\n\"\n",
        "\n",
        "\n",
        "    # Unique values for categorical features\n",
        "    unique_values_str = \"Unique Values for Categorical Features:\\n\"\n",
        "    for col, uniques in unique_values.items():\n",
        "        unique_values_str += f\" - {col}: {uniques}\\n\"\n",
        "\n",
        "\n",
        "    # Descriptive statistics for numerical features\n",
        "    numerical_stats_str = \"Descriptive Statistics for Numerical Features:\\n\"\n",
        "    for col in numerical_features:\n",
        "        numerical_stats_str += f\" - {col}:\\n\"\n",
        "        for stat_name, value in numerical_stats[col].items():\n",
        "            numerical_stats_str += f\"   {stat_name}: {value}\\n\"\n",
        "\n",
        "    # Define the system prompt\n",
        "    system_prompt = \"\"\"\n",
        "    You are an intelligent assistant that creates descriptive templates for transforming dataframe rows into coherent paragraphs.\n",
        "    Analyze the provided dataframe structure and generate a template sentence that includes placeholders for each column.\n",
        "    Ensure the template is contextually relevant and maintains grammatical correctness.\n",
        "    \"\"\"\n",
        "\n",
        "\n",
        "    # Define the user prompt\n",
        "    user_prompt = f\"\"\"\n",
        "    Analyze the following dataframe structure and create a descriptive template with placeholders for each column.\n",
        "\n",
        "    <column_summary>\n",
        "    {column_summary}\n",
        "    </column_summary>\n",
        "\n",
        "    <unique_values>\n",
        "    {unique_values_str}\n",
        "    </unique_values>\n",
        "\n",
        "    <numerical_stats>\n",
        "    {numerical_stats_str}\n",
        "    </numerical_stats>\n",
        "\n",
        "    Use the exact column names from the column_summary in generating the variable names in the template,\n",
        "    as they will be populated with the actual values in the dataset.\n",
        "\n",
        "    Example Template about a Spotify dataset:\n",
        "    \"{{artist}} gained {{streams}} streams in the song '{{song}}' that was a hit in {{date}}.\"\n",
        "\n",
        "\n",
        "Output only the template without any explanation or introduction.\n",
        "The template's variables will be dynamically replaced so make sure they're formatted properly.\"\"\"\n",
        "\n",
        "\n",
        "    # Generate the template (with retries)\n",
        "    retries = 3\n",
        "    for attempt in range(retries):\n",
        "        try:\n",
        "            response = openai.ChatCompletion.create(\n",
        "                model=\"gpt-4o-mini\",\n",
        "                temperature=0.3,\n",
        "                max_tokens=1024,\n",
        "                messages=[\n",
        "                    {\"role\": \"system\", \"content\": system_prompt},\n",
        "                    {\"role\": \"user\", \"content\": user_prompt}\n",
        "                ]\n",
        "            )\n",
        "            template = response['choices'][0]['message']['content'].strip()\n",
        "            return template\n",
        "        except Exception as e:\n",
        "            print(f\"Error generating template (Attempt {attempt + 1}/{retries}): {e}\")\n",
        "            time.sleep(2)  # Wait before retrying\n",
        "\n",
        "    return None\n"
      ]
    },
    {
      "cell_type": "code",
      "execution_count": 21,
      "id": "f8a0fd91-80de-4e08-8f86-44325a8accd3",
      "metadata": {
        "id": "f8a0fd91-80de-4e08-8f86-44325a8accd3",
        "colab": {
          "base_uri": "https://localhost:8080/"
        },
        "outputId": "7116d3ff-026d-4db6-9d5a-421266b9a861"
      },
      "outputs": [
        {
          "output_type": "stream",
          "name": "stdout",
          "text": [
            "\"Parcel ID {Parcel ID}, sent by {Sender Name} from {Sender Address} with contact number {Sender Contact}, is on its way to {Receiver Name} at {Receiver Address}, who can be reached at {Receiver Contact}. The parcel weighs {Parcel Weight (kg)} kg and has dimensions of {Parcel Dimensions (cm)}. It was shipped on {Shipment Date} and is estimated to be delivered by {Estimated Delivery Date}. Currently, the delivery status is '{Delivery Status}', and it was shipped using the {Shipping Method} method. The tracking number for this shipment is {Tracking Number}, and it is insured for a value of ${Insurance Value ($)}. Please note that the parcel is marked as {Fragile} and {Temperature Sensitive}. Special instructions include: {Special Instructions}. The delivery has been attempted {Delivery Attempt Count} times, with the last known location being {Last Location}. The courier handling this shipment is identified as {Courier ID}, and the shipping cost was ${Shipping Cost ($)}.\"\n"
          ]
        }
      ],
      "source": [
        "# Generate the template\n",
        "template = generate_template(df,\n",
        "                      column_info,\n",
        "                      categorical_features,\n",
        "                      numerical_features,\n",
        "                      unique_values,\n",
        "                      numerical_stats)\n",
        "print(template)"
      ]
    },
    {
      "cell_type": "markdown",
      "source": [
        "## Populating the Template with Actual Values"
      ],
      "metadata": {
        "id": "VWPq3mcY-r40"
      },
      "id": "VWPq3mcY-r40"
    },
    {
      "cell_type": "code",
      "execution_count": 22,
      "id": "258e73ea-3500-49bb-9820-20637375dd55",
      "metadata": {
        "id": "258e73ea-3500-49bb-9820-20637375dd55"
      },
      "outputs": [],
      "source": [
        "def populate_template(template, row):\n",
        "\n",
        "    # Convert row to dictionary and replace NaN with 'N/A'\n",
        "    row_dict = row.to_dict()\n",
        "    for key, value in row_dict.items():\n",
        "        if pd.isna(value):\n",
        "            row_dict[key] = 'N/A'\n",
        "\n",
        "    # Generate the populated template per row\n",
        "    paragraph = template.format(**row_dict)\n",
        "\n",
        "    return paragraph\n"
      ]
    },
    {
      "cell_type": "code",
      "source": [
        "# Apply the populate_template function to each row in the dataframe\n",
        "df['paragraph'] = df.apply(lambda row: populate_template(template, row), axis=1)"
      ],
      "metadata": {
        "id": "rIhyXGSD_Ke4"
      },
      "id": "rIhyXGSD_Ke4",
      "execution_count": 29,
      "outputs": []
    },
    {
      "cell_type": "code",
      "source": [
        "df['paragraph'][0]"
      ],
      "metadata": {
        "colab": {
          "base_uri": "https://localhost:8080/",
          "height": 105
        },
        "id": "dEcVB5tUPaM2",
        "outputId": "f9979ef8-9538-4e14-fac2-12c5bb589e5d"
      },
      "id": "dEcVB5tUPaM2",
      "execution_count": 30,
      "outputs": [
        {
          "output_type": "execute_result",
          "data": {
            "text/plain": [
              "'\"Parcel ID PCL398114, sent by Michael Brown from 456 Maple Ave, Los Angeles, CA 90001 with contact number +1-555-4253, is on its way to Sara Davis at 202 Birch Blvd, Phoenix, AZ 85001, who can be reached at +1-555-8367. The parcel weighs 7.75 kg and has dimensions of 97x16x70. It was shipped on 2024-11-17 and is estimated to be delivered by 2024-11-17. Currently, the delivery status is \\'Delivered\\', and it was shipped using the Standard method. The tracking number for this shipment is TRK389255020, and it is insured for a value of $257.34. Please note that the parcel is marked as Yes and No. Special instructions include: N/A. The delivery has been attempted 1 times, with the last known location being Distribution Center, Phoenix, AZ. The courier handling this shipment is identified as \"Parcel ID PCL398114, sent by Michael Brown from 456 Maple Ave, Los Angeles, CA 90001 with contact number +1-555-4253, is on its way to Sara Davis at 202 Birch Blvd, Phoenix, AZ 85001, who can be reached at +1-555-8367. The parcel weighs 7.75 kg and has dimensions of 97x16x70. It was shipped on 2024-11-17 and is estimated to be delivered by 2024-11-17. Currently, the delivery status is \\'Delivered\\', and it was shipped using the Standard method. The tracking number for this shipment is TRK389255020, and it is insured for a value of $257.34. Please note that the parcel is marked as Yes and No. Special instructions include: N/A. The delivery has been attempted 1 times, with the last known location being Distribution Center, Phoenix, AZ. The courier handling this shipment is identified as \"Parcel ID PCL398114, sent by Michael Brown from 456 Maple Ave, Los Angeles, CA 90001 with contact number +1-555-4253, is on its way to Sara Davis at 202 Birch Blvd, Phoenix, AZ 85001, who can be reached at +1-555-8367. The parcel weighs 7.75 kg and has dimensions of 97x16x70. It was shipped on 2024-11-17 and is estimated to be delivered by 2024-11-17. Currently, the delivery status is \\'Delivered\\', and it was shipped using the Standard method. The tracking number for this shipment is TRK389255020, and it is insured for a value of $257.34. Please note that the parcel is marked as Yes and No. Special instructions include: N/A. The delivery has been attempted 1 times, with the last known location being Distribution Center, Phoenix, AZ. The courier handling this shipment is identified as CR9571, and the shipping cost was $8.66.\", and the shipping cost was $8.66.\", and the shipping cost was $8.66.\"'"
            ],
            "application/vnd.google.colaboratory.intrinsic+json": {
              "type": "string"
            }
          },
          "metadata": {},
          "execution_count": 30
        }
      ]
    },
    {
      "cell_type": "markdown",
      "source": [
        "## Saving the Populated Templates (Natural Language Texts)"
      ],
      "metadata": {
        "id": "bDO2V_0P_So1"
      },
      "id": "bDO2V_0P_So1"
    },
    {
      "cell_type": "code",
      "execution_count": 31,
      "id": "0b26a4d3-b3d9-448b-ae5e-f2c8960718cd",
      "metadata": {
        "id": "0b26a4d3-b3d9-448b-ae5e-f2c8960718cd"
      },
      "outputs": [],
      "source": [
        "def save_content_to_txt(paragraphs, txt_filename):\n",
        "    try:\n",
        "        with open(txt_filename, 'w', encoding='utf-8') as file:\n",
        "\n",
        "          #Write each paragraph\n",
        "            for para in paragraphs:\n",
        "                file.write(para + '\\n\\n')\n",
        "\n",
        "        print(f\"All content has been saved as '{txt_filename}'.\\n\")\n",
        "    except Exception as e:\n",
        "        print(f\"Error saving content to text file: {e}\")\n"
      ]
    },
    {
      "cell_type": "code",
      "execution_count": 32,
      "id": "cb501277-4548-4f79-8b1e-fedafcff856f",
      "metadata": {
        "id": "cb501277-4548-4f79-8b1e-fedafcff856f"
      },
      "outputs": [],
      "source": [
        "def save_content_to_pdf(paragraphs, pdf_filename):\n",
        "    try:\n",
        "        pdf = FPDF()\n",
        "        pdf.add_page()\n",
        "        pdf.set_font(\"Arial\", size=12)\n",
        "\n",
        "        #Add each paragraph\n",
        "        for para in paragraphs:\n",
        "            pdf.multi_cell(0, 10, para)\n",
        "            pdf.ln() #Add a line break between paragraphs\n",
        "\n",
        "        pdf.output(pdf_filename)\n",
        "        print(f\"All content has been saved as '{pdf_filename}'.\\n\")\n",
        "    except Exception as e:\n",
        "        print(f\"Error saving content to PDF: {e}\")\n",
        "\n"
      ]
    },
    {
      "cell_type": "code",
      "execution_count": 34,
      "id": "9ee0ce02-95de-4634-bdb3-63e285b9031a",
      "metadata": {
        "id": "9ee0ce02-95de-4634-bdb3-63e285b9031a",
        "colab": {
          "base_uri": "https://localhost:8080/"
        },
        "outputId": "aaa2bef7-0734-459f-ad6d-e49e0ee3c327"
      },
      "outputs": [
        {
          "output_type": "stream",
          "name": "stdout",
          "text": [
            "All content has been saved as 'nlg.txt'.\n",
            "\n",
            "All content has been saved as 'nlg.pdf'.\n",
            "\n"
          ]
        }
      ],
      "source": [
        "# Save the paragraphs to both text and PDF files\n",
        "save_content_to_txt(df['paragraph'].to_list(), txt_filename='nlg.txt')\n",
        "save_content_to_pdf(df['paragraph'].to_list(), pdf_filename='nlg.pdf')\n"
      ]
    }
  ],
  "metadata": {
    "kernelspec": {
      "display_name": "attic-proposals",
      "language": "python",
      "name": "attic-proposals"
    },
    "language_info": {
      "codemirror_mode": {
        "name": "ipython",
        "version": 3
      },
      "file_extension": ".py",
      "mimetype": "text/x-python",
      "name": "python",
      "nbconvert_exporter": "python",
      "pygments_lexer": "ipython3",
      "version": "3.11.0"
    },
    "colab": {
      "provenance": []
    }
  },
  "nbformat": 4,
  "nbformat_minor": 5
}